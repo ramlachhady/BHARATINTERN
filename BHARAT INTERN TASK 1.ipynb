{
 "cells": [
  {
   "cell_type": "markdown",
   "id": "72586875",
   "metadata": {},
   "source": [
    "# TASK 1: STOCK PREDICTION"
   ]
  },
  {
   "cell_type": "markdown",
   "id": "e17176ad",
   "metadata": {},
   "source": [
    "LIBRARIES"
   ]
  },
  {
   "cell_type": "code",
   "execution_count": 31,
   "id": "52ed02a7",
   "metadata": {},
   "outputs": [],
   "source": [
    "import pandas as pd\n",
    "import numpy as np\n",
    "import matplotlib.pyplot as plt\n",
    "from sklearn.preprocessing import MinMaxScaler\n",
    "from tensorflow.keras.models import Sequential\n",
    "from tensorflow.keras.layers import Dense, LSTM"
   ]
  },
  {
   "cell_type": "markdown",
   "id": "57a7c753",
   "metadata": {},
   "source": [
    "LOADING AND EXPLORING OF DATASET"
   ]
  },
  {
   "cell_type": "code",
   "execution_count": 7,
   "id": "5f4503e4",
   "metadata": {},
   "outputs": [
    {
     "data": {
      "text/html": [
       "<div>\n",
       "<style scoped>\n",
       "    .dataframe tbody tr th:only-of-type {\n",
       "        vertical-align: middle;\n",
       "    }\n",
       "\n",
       "    .dataframe tbody tr th {\n",
       "        vertical-align: top;\n",
       "    }\n",
       "\n",
       "    .dataframe thead th {\n",
       "        text-align: right;\n",
       "    }\n",
       "</style>\n",
       "<table border=\"1\" class=\"dataframe\">\n",
       "  <thead>\n",
       "    <tr style=\"text-align: right;\">\n",
       "      <th></th>\n",
       "      <th>Date</th>\n",
       "      <th>Open</th>\n",
       "      <th>High</th>\n",
       "      <th>Low</th>\n",
       "      <th>Close</th>\n",
       "      <th>Adj Close</th>\n",
       "      <th>Volume</th>\n",
       "    </tr>\n",
       "  </thead>\n",
       "  <tbody>\n",
       "    <tr>\n",
       "      <th>0</th>\n",
       "      <td>2000-01-03</td>\n",
       "      <td>43.500000</td>\n",
       "      <td>43.500000</td>\n",
       "      <td>43.500000</td>\n",
       "      <td>43.500000</td>\n",
       "      <td>16.114737</td>\n",
       "      <td>0</td>\n",
       "    </tr>\n",
       "    <tr>\n",
       "      <th>1</th>\n",
       "      <td>2000-01-04</td>\n",
       "      <td>43.500000</td>\n",
       "      <td>43.500000</td>\n",
       "      <td>43.500000</td>\n",
       "      <td>43.500000</td>\n",
       "      <td>16.114737</td>\n",
       "      <td>0</td>\n",
       "    </tr>\n",
       "    <tr>\n",
       "      <th>2</th>\n",
       "      <td>2000-01-05</td>\n",
       "      <td>43.500000</td>\n",
       "      <td>43.500000</td>\n",
       "      <td>43.500000</td>\n",
       "      <td>43.500000</td>\n",
       "      <td>16.114737</td>\n",
       "      <td>0</td>\n",
       "    </tr>\n",
       "    <tr>\n",
       "      <th>3</th>\n",
       "      <td>2000-01-06</td>\n",
       "      <td>43.500000</td>\n",
       "      <td>43.500000</td>\n",
       "      <td>43.500000</td>\n",
       "      <td>43.500000</td>\n",
       "      <td>16.114737</td>\n",
       "      <td>0</td>\n",
       "    </tr>\n",
       "    <tr>\n",
       "      <th>4</th>\n",
       "      <td>2000-01-07</td>\n",
       "      <td>43.500000</td>\n",
       "      <td>43.500000</td>\n",
       "      <td>43.500000</td>\n",
       "      <td>43.500000</td>\n",
       "      <td>16.114737</td>\n",
       "      <td>0</td>\n",
       "    </tr>\n",
       "    <tr>\n",
       "      <th>...</th>\n",
       "      <td>...</td>\n",
       "      <td>...</td>\n",
       "      <td>...</td>\n",
       "      <td>...</td>\n",
       "      <td>...</td>\n",
       "      <td>...</td>\n",
       "      <td>...</td>\n",
       "    </tr>\n",
       "    <tr>\n",
       "      <th>5881</th>\n",
       "      <td>2023-08-28</td>\n",
       "      <td>606.299988</td>\n",
       "      <td>608.400024</td>\n",
       "      <td>601.549988</td>\n",
       "      <td>602.200012</td>\n",
       "      <td>602.200012</td>\n",
       "      <td>1317553</td>\n",
       "    </tr>\n",
       "    <tr>\n",
       "      <th>5882</th>\n",
       "      <td>2023-08-29</td>\n",
       "      <td>604.900024</td>\n",
       "      <td>610.549988</td>\n",
       "      <td>603.000000</td>\n",
       "      <td>606.549988</td>\n",
       "      <td>606.549988</td>\n",
       "      <td>524651</td>\n",
       "    </tr>\n",
       "    <tr>\n",
       "      <th>5883</th>\n",
       "      <td>2023-08-30</td>\n",
       "      <td>611.200012</td>\n",
       "      <td>613.000000</td>\n",
       "      <td>604.799988</td>\n",
       "      <td>605.549988</td>\n",
       "      <td>605.549988</td>\n",
       "      <td>523411</td>\n",
       "    </tr>\n",
       "    <tr>\n",
       "      <th>5884</th>\n",
       "      <td>2023-08-31</td>\n",
       "      <td>608.049988</td>\n",
       "      <td>609.650024</td>\n",
       "      <td>599.099976</td>\n",
       "      <td>601.099976</td>\n",
       "      <td>601.099976</td>\n",
       "      <td>1242644</td>\n",
       "    </tr>\n",
       "    <tr>\n",
       "      <th>5885</th>\n",
       "      <td>2023-09-01</td>\n",
       "      <td>603.549988</td>\n",
       "      <td>614.799988</td>\n",
       "      <td>601.650024</td>\n",
       "      <td>611.200012</td>\n",
       "      <td>611.200012</td>\n",
       "      <td>1454215</td>\n",
       "    </tr>\n",
       "  </tbody>\n",
       "</table>\n",
       "<p>5886 rows × 7 columns</p>\n",
       "</div>"
      ],
      "text/plain": [
       "            Date        Open        High         Low       Close   Adj Close  \\\n",
       "0     2000-01-03   43.500000   43.500000   43.500000   43.500000   16.114737   \n",
       "1     2000-01-04   43.500000   43.500000   43.500000   43.500000   16.114737   \n",
       "2     2000-01-05   43.500000   43.500000   43.500000   43.500000   16.114737   \n",
       "3     2000-01-06   43.500000   43.500000   43.500000   43.500000   16.114737   \n",
       "4     2000-01-07   43.500000   43.500000   43.500000   43.500000   16.114737   \n",
       "...          ...         ...         ...         ...         ...         ...   \n",
       "5881  2023-08-28  606.299988  608.400024  601.549988  602.200012  602.200012   \n",
       "5882  2023-08-29  604.900024  610.549988  603.000000  606.549988  606.549988   \n",
       "5883  2023-08-30  611.200012  613.000000  604.799988  605.549988  605.549988   \n",
       "5884  2023-08-31  608.049988  609.650024  599.099976  601.099976  601.099976   \n",
       "5885  2023-09-01  603.549988  614.799988  601.650024  611.200012  611.200012   \n",
       "\n",
       "       Volume  \n",
       "0           0  \n",
       "1           0  \n",
       "2           0  \n",
       "3           0  \n",
       "4           0  \n",
       "...       ...  \n",
       "5881  1317553  \n",
       "5882   524651  \n",
       "5883   523411  \n",
       "5884  1242644  \n",
       "5885  1454215  \n",
       "\n",
       "[5886 rows x 7 columns]"
      ]
     },
     "execution_count": 7,
     "metadata": {},
     "output_type": "execute_result"
    }
   ],
   "source": [
    "dataset = pd.read_csv('Tata_Motors_Ltd._historical_data.csv')\n",
    "dataset"
   ]
  },
  {
   "cell_type": "code",
   "execution_count": 8,
   "id": "4efaa764",
   "metadata": {},
   "outputs": [
    {
     "data": {
      "text/html": [
       "<div>\n",
       "<style scoped>\n",
       "    .dataframe tbody tr th:only-of-type {\n",
       "        vertical-align: middle;\n",
       "    }\n",
       "\n",
       "    .dataframe tbody tr th {\n",
       "        vertical-align: top;\n",
       "    }\n",
       "\n",
       "    .dataframe thead th {\n",
       "        text-align: right;\n",
       "    }\n",
       "</style>\n",
       "<table border=\"1\" class=\"dataframe\">\n",
       "  <thead>\n",
       "    <tr style=\"text-align: right;\">\n",
       "      <th></th>\n",
       "      <th>Date</th>\n",
       "      <th>Open</th>\n",
       "      <th>High</th>\n",
       "      <th>Low</th>\n",
       "      <th>Close</th>\n",
       "      <th>Adj Close</th>\n",
       "      <th>Volume</th>\n",
       "    </tr>\n",
       "  </thead>\n",
       "  <tbody>\n",
       "    <tr>\n",
       "      <th>0</th>\n",
       "      <td>2000-01-03</td>\n",
       "      <td>43.5</td>\n",
       "      <td>43.5</td>\n",
       "      <td>43.5</td>\n",
       "      <td>43.5</td>\n",
       "      <td>16.114737</td>\n",
       "      <td>0</td>\n",
       "    </tr>\n",
       "    <tr>\n",
       "      <th>1</th>\n",
       "      <td>2000-01-04</td>\n",
       "      <td>43.5</td>\n",
       "      <td>43.5</td>\n",
       "      <td>43.5</td>\n",
       "      <td>43.5</td>\n",
       "      <td>16.114737</td>\n",
       "      <td>0</td>\n",
       "    </tr>\n",
       "    <tr>\n",
       "      <th>2</th>\n",
       "      <td>2000-01-05</td>\n",
       "      <td>43.5</td>\n",
       "      <td>43.5</td>\n",
       "      <td>43.5</td>\n",
       "      <td>43.5</td>\n",
       "      <td>16.114737</td>\n",
       "      <td>0</td>\n",
       "    </tr>\n",
       "    <tr>\n",
       "      <th>3</th>\n",
       "      <td>2000-01-06</td>\n",
       "      <td>43.5</td>\n",
       "      <td>43.5</td>\n",
       "      <td>43.5</td>\n",
       "      <td>43.5</td>\n",
       "      <td>16.114737</td>\n",
       "      <td>0</td>\n",
       "    </tr>\n",
       "    <tr>\n",
       "      <th>4</th>\n",
       "      <td>2000-01-07</td>\n",
       "      <td>43.5</td>\n",
       "      <td>43.5</td>\n",
       "      <td>43.5</td>\n",
       "      <td>43.5</td>\n",
       "      <td>16.114737</td>\n",
       "      <td>0</td>\n",
       "    </tr>\n",
       "  </tbody>\n",
       "</table>\n",
       "</div>"
      ],
      "text/plain": [
       "         Date  Open  High   Low  Close  Adj Close  Volume\n",
       "0  2000-01-03  43.5  43.5  43.5   43.5  16.114737       0\n",
       "1  2000-01-04  43.5  43.5  43.5   43.5  16.114737       0\n",
       "2  2000-01-05  43.5  43.5  43.5   43.5  16.114737       0\n",
       "3  2000-01-06  43.5  43.5  43.5   43.5  16.114737       0\n",
       "4  2000-01-07  43.5  43.5  43.5   43.5  16.114737       0"
      ]
     },
     "execution_count": 8,
     "metadata": {},
     "output_type": "execute_result"
    }
   ],
   "source": [
    "dataset.head()"
   ]
  },
  {
   "cell_type": "code",
   "execution_count": 9,
   "id": "291991b3",
   "metadata": {},
   "outputs": [
    {
     "data": {
      "text/html": [
       "<div>\n",
       "<style scoped>\n",
       "    .dataframe tbody tr th:only-of-type {\n",
       "        vertical-align: middle;\n",
       "    }\n",
       "\n",
       "    .dataframe tbody tr th {\n",
       "        vertical-align: top;\n",
       "    }\n",
       "\n",
       "    .dataframe thead th {\n",
       "        text-align: right;\n",
       "    }\n",
       "</style>\n",
       "<table border=\"1\" class=\"dataframe\">\n",
       "  <thead>\n",
       "    <tr style=\"text-align: right;\">\n",
       "      <th></th>\n",
       "      <th>Open</th>\n",
       "      <th>High</th>\n",
       "      <th>Low</th>\n",
       "      <th>Close</th>\n",
       "      <th>Adj Close</th>\n",
       "      <th>Volume</th>\n",
       "    </tr>\n",
       "  </thead>\n",
       "  <tbody>\n",
       "    <tr>\n",
       "      <th>count</th>\n",
       "      <td>5886.000000</td>\n",
       "      <td>5886.000000</td>\n",
       "      <td>5886.000000</td>\n",
       "      <td>5886.000000</td>\n",
       "      <td>5886.000000</td>\n",
       "      <td>5.886000e+03</td>\n",
       "    </tr>\n",
       "    <tr>\n",
       "      <th>mean</th>\n",
       "      <td>219.050581</td>\n",
       "      <td>222.092077</td>\n",
       "      <td>215.580924</td>\n",
       "      <td>218.658936</td>\n",
       "      <td>201.175923</td>\n",
       "      <td>2.586247e+06</td>\n",
       "    </tr>\n",
       "    <tr>\n",
       "      <th>std</th>\n",
       "      <td>161.660368</td>\n",
       "      <td>163.654766</td>\n",
       "      <td>159.364258</td>\n",
       "      <td>161.370974</td>\n",
       "      <td>172.828015</td>\n",
       "      <td>4.579995e+06</td>\n",
       "    </tr>\n",
       "    <tr>\n",
       "      <th>min</th>\n",
       "      <td>12.049999</td>\n",
       "      <td>12.049999</td>\n",
       "      <td>12.049999</td>\n",
       "      <td>12.049999</td>\n",
       "      <td>4.463967</td>\n",
       "      <td>0.000000e+00</td>\n",
       "    </tr>\n",
       "    <tr>\n",
       "      <th>25%</th>\n",
       "      <td>85.247496</td>\n",
       "      <td>86.092497</td>\n",
       "      <td>84.267500</td>\n",
       "      <td>85.125002</td>\n",
       "      <td>42.817844</td>\n",
       "      <td>5.867780e+05</td>\n",
       "    </tr>\n",
       "    <tr>\n",
       "      <th>50%</th>\n",
       "      <td>171.600006</td>\n",
       "      <td>174.800003</td>\n",
       "      <td>168.654999</td>\n",
       "      <td>171.375000</td>\n",
       "      <td>150.500000</td>\n",
       "      <td>1.398945e+06</td>\n",
       "    </tr>\n",
       "    <tr>\n",
       "      <th>75%</th>\n",
       "      <td>350.437492</td>\n",
       "      <td>358.075005</td>\n",
       "      <td>344.650002</td>\n",
       "      <td>352.274994</td>\n",
       "      <td>352.189270</td>\n",
       "      <td>3.121360e+06</td>\n",
       "    </tr>\n",
       "    <tr>\n",
       "      <th>max</th>\n",
       "      <td>646.200012</td>\n",
       "      <td>665.299988</td>\n",
       "      <td>639.000000</td>\n",
       "      <td>640.599976</td>\n",
       "      <td>640.599976</td>\n",
       "      <td>2.190277e+08</td>\n",
       "    </tr>\n",
       "  </tbody>\n",
       "</table>\n",
       "</div>"
      ],
      "text/plain": [
       "              Open         High          Low        Close    Adj Close  \\\n",
       "count  5886.000000  5886.000000  5886.000000  5886.000000  5886.000000   \n",
       "mean    219.050581   222.092077   215.580924   218.658936   201.175923   \n",
       "std     161.660368   163.654766   159.364258   161.370974   172.828015   \n",
       "min      12.049999    12.049999    12.049999    12.049999     4.463967   \n",
       "25%      85.247496    86.092497    84.267500    85.125002    42.817844   \n",
       "50%     171.600006   174.800003   168.654999   171.375000   150.500000   \n",
       "75%     350.437492   358.075005   344.650002   352.274994   352.189270   \n",
       "max     646.200012   665.299988   639.000000   640.599976   640.599976   \n",
       "\n",
       "             Volume  \n",
       "count  5.886000e+03  \n",
       "mean   2.586247e+06  \n",
       "std    4.579995e+06  \n",
       "min    0.000000e+00  \n",
       "25%    5.867780e+05  \n",
       "50%    1.398945e+06  \n",
       "75%    3.121360e+06  \n",
       "max    2.190277e+08  "
      ]
     },
     "execution_count": 9,
     "metadata": {},
     "output_type": "execute_result"
    }
   ],
   "source": [
    "dataset.describe()"
   ]
  },
  {
   "cell_type": "markdown",
   "id": "bdd4e61c",
   "metadata": {},
   "source": [
    "PREPROCESSING ON DATASET"
   ]
  },
  {
   "cell_type": "code",
   "execution_count": 10,
   "id": "55dc827c",
   "metadata": {},
   "outputs": [],
   "source": [
    "dataset = dataset.sort_values('Date')\n",
    "features = ['Open', 'High', 'Low', 'Close', 'Volume']"
   ]
  },
  {
   "cell_type": "code",
   "execution_count": 11,
   "id": "274ec217",
   "metadata": {},
   "outputs": [],
   "source": [
    "data = dataset[features].values"
   ]
  },
  {
   "cell_type": "code",
   "execution_count": 12,
   "id": "615c1627",
   "metadata": {},
   "outputs": [],
   "source": [
    "# Normalize the data using MinMaxScaler\n",
    "scaler = MinMaxScaler(feature_range=(0, 1))\n",
    "scaled_data = scaler.fit_transform(data)"
   ]
  },
  {
   "cell_type": "code",
   "execution_count": 13,
   "id": "a0d27ff2",
   "metadata": {},
   "outputs": [],
   "source": [
    "train_size = int(len(scaled_data) * 0.8)\n",
    "test_size = len(scaled_data) - train_size\n",
    "train_data, test_data = scaled_data[0:train_size, :], scaled_data[train_size:len(scaled_data), :]"
   ]
  },
  {
   "cell_type": "code",
   "execution_count": 14,
   "id": "1b06d06d",
   "metadata": {},
   "outputs": [],
   "source": [
    "def create_dataset(dataset, time_step=1):\n",
    "    dataX, dataY = [], []\n",
    "    for i in range(len(dataset)-time_step-1):\n",
    "        a = dataset[i:(i+time_step), 0]\n",
    "        dataX.append(a)\n",
    "        dataY.append(dataset[i + time_step, 0])\n",
    "    return np.array(dataX), np.array(dataY)"
   ]
  },
  {
   "cell_type": "code",
   "execution_count": 15,
   "id": "5b4102c9",
   "metadata": {},
   "outputs": [],
   "source": [
    "# Reshape the data for the LSTM model\n",
    "time_step = 100  # This value can be adjusted\n",
    "X_train, y_train = create_dataset(train_data, time_step)\n",
    "X_test, y_test = create_dataset(test_data, time_step)"
   ]
  },
  {
   "cell_type": "markdown",
   "id": "b6d465f4",
   "metadata": {},
   "source": [
    "LSTM MODEL CREATION"
   ]
  },
  {
   "cell_type": "code",
   "execution_count": 16,
   "id": "fd185a12",
   "metadata": {},
   "outputs": [],
   "source": [
    "# Reshape the input to be 3D [samples, time steps, features]\n",
    "X_train = X_train.reshape(X_train.shape[0], X_train.shape[1], 1)\n",
    "X_test = X_test.reshape(X_test.shape[0], X_test.shape[1], 1)"
   ]
  },
  {
   "cell_type": "code",
   "execution_count": 17,
   "id": "7f8679b6",
   "metadata": {},
   "outputs": [],
   "source": [
    "model = Sequential()\n",
    "model.add(LSTM(units=50, return_sequences=True, input_shape=(X_train.shape[1], 1)))\n",
    "model.add(LSTM(units=50, return_sequences=True))\n",
    "model.add(LSTM(units=50))\n",
    "model.add(Dense(units=1))"
   ]
  },
  {
   "cell_type": "code",
   "execution_count": 18,
   "id": "db15c1e1",
   "metadata": {},
   "outputs": [],
   "source": [
    "model.compile(optimizer='adam', loss='mean_squared_error')"
   ]
  },
  {
   "cell_type": "code",
   "execution_count": 19,
   "id": "61aa054c",
   "metadata": {},
   "outputs": [
    {
     "name": "stdout",
     "output_type": "stream",
     "text": [
      "Epoch 1/50\n",
      "144/144 [==============================] - 36s 151ms/step - loss: 0.0050\n",
      "Epoch 2/50\n",
      "144/144 [==============================] - 23s 159ms/step - loss: 7.2550e-04\n",
      "Epoch 3/50\n",
      "144/144 [==============================] - 21s 148ms/step - loss: 6.1311e-04\n",
      "Epoch 4/50\n",
      "144/144 [==============================] - 23s 158ms/step - loss: 5.5397e-04\n",
      "Epoch 5/50\n",
      "144/144 [==============================] - 23s 162ms/step - loss: 4.2498e-04\n",
      "Epoch 6/50\n",
      "144/144 [==============================] - 21s 142ms/step - loss: 4.0436e-04\n",
      "Epoch 7/50\n",
      "144/144 [==============================] - 22s 156ms/step - loss: 3.4239e-04\n",
      "Epoch 8/50\n",
      "144/144 [==============================] - 22s 153ms/step - loss: 2.7727e-04\n",
      "Epoch 9/50\n",
      "144/144 [==============================] - 24s 166ms/step - loss: 2.4252e-04\n",
      "Epoch 10/50\n",
      "144/144 [==============================] - 22s 154ms/step - loss: 2.3679e-04\n",
      "Epoch 11/50\n",
      "144/144 [==============================] - 23s 163ms/step - loss: 2.2624e-04\n",
      "Epoch 12/50\n",
      "144/144 [==============================] - 22s 150ms/step - loss: 2.1477e-04\n",
      "Epoch 13/50\n",
      "144/144 [==============================] - 20s 142ms/step - loss: 1.9046e-04\n",
      "Epoch 14/50\n",
      "144/144 [==============================] - 21s 144ms/step - loss: 1.7470e-04\n",
      "Epoch 15/50\n",
      "144/144 [==============================] - 23s 160ms/step - loss: 1.6484e-04\n",
      "Epoch 16/50\n",
      "144/144 [==============================] - 21s 148ms/step - loss: 1.6816e-04\n",
      "Epoch 17/50\n",
      "144/144 [==============================] - 21s 143ms/step - loss: 1.5102e-04\n",
      "Epoch 18/50\n",
      "144/144 [==============================] - 21s 146ms/step - loss: 1.3281e-04\n",
      "Epoch 19/50\n",
      "144/144 [==============================] - 21s 148ms/step - loss: 1.6232e-04\n",
      "Epoch 20/50\n",
      "144/144 [==============================] - 23s 156ms/step - loss: 1.2991e-04\n",
      "Epoch 21/50\n",
      "144/144 [==============================] - 21s 143ms/step - loss: 1.6176e-04\n",
      "Epoch 22/50\n",
      "144/144 [==============================] - 20s 140ms/step - loss: 1.3862e-04\n",
      "Epoch 23/50\n",
      "144/144 [==============================] - 20s 140ms/step - loss: 1.3203e-04\n",
      "Epoch 24/50\n",
      "144/144 [==============================] - 20s 141ms/step - loss: 1.2638e-04\n",
      "Epoch 25/50\n",
      "144/144 [==============================] - 22s 156ms/step - loss: 1.0643e-04\n",
      "Epoch 26/50\n",
      "144/144 [==============================] - 20s 141ms/step - loss: 1.0470e-04\n",
      "Epoch 27/50\n",
      "144/144 [==============================] - 20s 140ms/step - loss: 1.0306e-04\n",
      "Epoch 28/50\n",
      "144/144 [==============================] - 20s 138ms/step - loss: 1.2781e-04\n",
      "Epoch 29/50\n",
      "144/144 [==============================] - 20s 138ms/step - loss: 1.3475e-04\n",
      "Epoch 30/50\n",
      "144/144 [==============================] - 20s 139ms/step - loss: 1.4071e-04\n",
      "Epoch 31/50\n",
      "144/144 [==============================] - 20s 138ms/step - loss: 1.3326e-04\n",
      "Epoch 32/50\n",
      "144/144 [==============================] - 20s 136ms/step - loss: 1.0858e-04\n",
      "Epoch 33/50\n",
      "144/144 [==============================] - 20s 137ms/step - loss: 1.1714e-04\n",
      "Epoch 34/50\n",
      "144/144 [==============================] - 20s 138ms/step - loss: 1.1678e-04\n",
      "Epoch 35/50\n",
      "144/144 [==============================] - 20s 138ms/step - loss: 1.0950e-04\n",
      "Epoch 36/50\n",
      "144/144 [==============================] - 20s 138ms/step - loss: 1.0854e-04\n",
      "Epoch 37/50\n",
      "144/144 [==============================] - 20s 140ms/step - loss: 1.2063e-04\n",
      "Epoch 38/50\n",
      "144/144 [==============================] - 21s 144ms/step - loss: 1.1664e-04\n",
      "Epoch 39/50\n",
      "144/144 [==============================] - 20s 141ms/step - loss: 1.1906e-04\n",
      "Epoch 40/50\n",
      "144/144 [==============================] - 20s 140ms/step - loss: 9.9590e-05\n",
      "Epoch 41/50\n",
      "144/144 [==============================] - 20s 141ms/step - loss: 1.0356e-04\n",
      "Epoch 42/50\n",
      "144/144 [==============================] - 20s 140ms/step - loss: 1.0802e-04\n",
      "Epoch 43/50\n",
      "144/144 [==============================] - 20s 139ms/step - loss: 1.1184e-04\n",
      "Epoch 44/50\n",
      "144/144 [==============================] - 20s 138ms/step - loss: 1.1709e-04\n",
      "Epoch 45/50\n",
      "144/144 [==============================] - 20s 138ms/step - loss: 9.2887e-05\n",
      "Epoch 46/50\n",
      "144/144 [==============================] - 20s 139ms/step - loss: 1.3062e-04\n",
      "Epoch 47/50\n",
      "144/144 [==============================] - 20s 139ms/step - loss: 1.0035e-04\n",
      "Epoch 48/50\n",
      "144/144 [==============================] - 20s 137ms/step - loss: 1.1267e-04\n",
      "Epoch 49/50\n",
      "144/144 [==============================] - 20s 139ms/step - loss: 1.0564e-04\n",
      "Epoch 50/50\n",
      "144/144 [==============================] - 20s 139ms/step - loss: 1.1034e-04\n"
     ]
    },
    {
     "data": {
      "text/plain": [
       "<keras.src.callbacks.History at 0x21749f2af20>"
      ]
     },
     "execution_count": 19,
     "metadata": {},
     "output_type": "execute_result"
    }
   ],
   "source": [
    "model.fit(X_train, y_train, epochs=50, batch_size=32)"
   ]
  },
  {
   "cell_type": "markdown",
   "id": "fc4881bf",
   "metadata": {},
   "source": [
    "MODEL PREDICTION"
   ]
  },
  {
   "cell_type": "code",
   "execution_count": 20,
   "id": "76f89ae4",
   "metadata": {},
   "outputs": [
    {
     "name": "stdout",
     "output_type": "stream",
     "text": [
      "144/144 [==============================] - 28s 55ms/step\n",
      "34/34 [==============================] - 2s 54ms/step\n"
     ]
    }
   ],
   "source": [
    "train_predict = model.predict(X_train)\n",
    "test_predict = model.predict(X_test)"
   ]
  },
  {
   "cell_type": "code",
   "execution_count": 24,
   "id": "de5f6f2b",
   "metadata": {},
   "outputs": [],
   "source": [
    "train_predict = train_predict.reshape(-1, 1)\n",
    "y_train = y_train.reshape(-1, 1)\n",
    "test_predict = test_predict.reshape(-1, 1)\n",
    "y_test = y_test.reshape(-1, 1)"
   ]
  },
  {
   "cell_type": "code",
   "execution_count": 26,
   "id": "1500c7ba",
   "metadata": {},
   "outputs": [
    {
     "name": "stdout",
     "output_type": "stream",
     "text": [
      "Shapes before transformation:\n",
      "Train predict shape: (4607, 1)\n",
      "Y train shape: (4607, 1)\n",
      "Test predict shape: (1077, 1)\n",
      "Y test shape: (1077, 1)\n"
     ]
    }
   ],
   "source": [
    "print(\"Shapes before transformation:\")\n",
    "print(\"Train predict shape:\", train_predict.shape)\n",
    "print(\"Y train shape:\", y_train.shape)\n",
    "print(\"Test predict shape:\", test_predict.shape)\n",
    "print(\"Y test shape:\", y_test.shape)\n"
   ]
  },
  {
   "cell_type": "code",
   "execution_count": 27,
   "id": "02dbfb10",
   "metadata": {},
   "outputs": [],
   "source": [
    "train_predict = np.array(train_predict)\n",
    "y_train = np.array(y_train)\n",
    "test_predict = np.array(test_predict)\n",
    "y_test = np.array(y_test)"
   ]
  },
  {
   "cell_type": "code",
   "execution_count": 29,
   "id": "b28268c3",
   "metadata": {},
   "outputs": [],
   "source": [
    "# Reverse the scaling manually\n",
    "train_predict = train_predict * (scaler.data_max_[0] - scaler.data_min_[0]) + scaler.data_min_[0]\n",
    "y_train = y_train * (scaler.data_max_[0] - scaler.data_min_[0]) + scaler.data_min_[0]\n",
    "test_predict = test_predict * (scaler.data_max_[0] - scaler.data_min_[0]) + scaler.data_min_[0]\n",
    "y_test = y_test * (scaler.data_max_[0] - scaler.data_min_[0]) + scaler.data_min_[0]"
   ]
  },
  {
   "cell_type": "code",
   "execution_count": 30,
   "id": "9585d309",
   "metadata": {},
   "outputs": [
    {
     "name": "stdout",
     "output_type": "stream",
     "text": [
      "Train RMSE:  5.9416080426763225\n",
      "Test RMSE:  8.732686087075818\n"
     ]
    }
   ],
   "source": [
    "# Evaluate the model\n",
    "from sklearn.metrics import mean_squared_error\n",
    "train_rmse = np.sqrt(mean_squared_error(y_train, train_predict))\n",
    "test_rmse = np.sqrt(mean_squared_error(y_test, test_predict))\n",
    "print(\"Train RMSE: \", train_rmse)\n",
    "print(\"Test RMSE: \", test_rmse)"
   ]
  },
  {
   "cell_type": "markdown",
   "id": "d1d59b1a",
   "metadata": {},
   "source": [
    "PREDICTION VISUALIZATION"
   ]
  },
  {
   "cell_type": "code",
   "execution_count": 32,
   "id": "98090264",
   "metadata": {},
   "outputs": [],
   "source": [
    "train_time_steps = np.arange(0, len(train_predict))\n",
    "test_time_steps = np.arange(len(train_predict), len(train_predict) + len(test_predict))\n"
   ]
  },
  {
   "cell_type": "code",
   "execution_count": 33,
   "id": "7944d701",
   "metadata": {},
   "outputs": [
    {
     "data": {
      "image/png": "[encoded data removed]",
      "text/plain": [
       "<Figure size 1400x700 with 1 Axes>"
      ]
     },
     "metadata": {},
     "output_type": "display_data"
    }
   ],
   "source": [
    "# Visualize the results\n",
    "plt.figure(figsize=(14, 7))\n",
    "plt.plot(train_time_steps, y_train, label='Actual Train Prices', color='blue')\n",
    "plt.plot(train_time_steps, train_predict, label='Predicted Train Prices', color='orange')\n",
    "plt.plot(test_time_steps, y_test, label='Actual Test Prices', color='green')\n",
    "plt.plot(test_time_steps, test_predict, label='Predicted Test Prices', color='red')\n",
    "plt.title('Stock Price Prediction')\n",
    "plt.xlabel('Time Steps')\n",
    "plt.ylabel('Stock Price')\n",
    "plt.legend()\n",
    "plt.show()"
   ]
  },
  {
   "cell_type": "code",
   "execution_count": null,
   "id": "9dd815f2",
   "metadata": {},
   "outputs": [],
   "source": []
  }
 ],
 "metadata": {
  "kernelspec": {
   "display_name": "Python 3 (ipykernel)",
   "language": "python",
   "name": "python3"
  },
  "language_info": {
   "codemirror_mode": {
    "name": "ipython",
    "version": 3
   },
   "file_extension": ".py",
   "mimetype": "text/x-python",
   "name": "python",
   "nbconvert_exporter": "python",
   "pygments_lexer": "ipython3",
   "version": "3.10.9"
  }
 },
 "nbformat": 4,
 "nbformat_minor": 5
}
